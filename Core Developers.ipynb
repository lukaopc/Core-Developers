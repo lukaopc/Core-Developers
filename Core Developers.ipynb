{
 "cells": [
  {
   "cell_type": "markdown",
   "metadata": {},
   "source": [
    "# Primeiro Trabalho de Manutenção e Evolução de Software\n",
    "\n",
    "**Lucas Pedroso Carvalho**  \n",
    "Departamento de Ciência da Computação  \n",
    "Universidade Federal de Minas Gerais  \n",
    "lucaspedrosocarvalho@gmail.com"
   ]
  },
  {
   "cell_type": "markdown",
   "metadata": {},
   "source": [
    "## Introdução\n",
    "\n",
    "Sistemas de código aberto são normalmente desenvolvidos por um grupo pequeno de core developers. Eles são os principais responsáveis por desenvolver o software e colaborar de forma construtiva com outros colaboradores. Essa papel abrange todas as formas de contribuição, seja enviar patches para a implementação ou documentação, revisar commits de outras pessoas, analisar os issues reportados ou discutir ideias de design e desenvolvimento nas listas de discussão.\n",
    "\n",
    "Diversos projetos de software de código aberto dependem inteiramente dos esforços voluntários de uma comunidade de desenvolvedores. Embora a maioria desses projetos possuam centenas de contribuidores, poucos realizam commits. Neste estudo, os core developers foram determinados a partir de uma heurística simples: são os desenvolvedores que em conjunto são responsáveis por 80% do total de commits de um sistema e, além disso, é exigido que cada um tenha um percentual mínimo de 5% de commits, garantindo uma quantidade mínima considerável de contribuição para com o projeto.\n",
    "\n",
    "Neste estudo, objetivou-se investigar os cores developers dos principais projetos no GitHub. Para isso, foram definidas as seguintes questões de pesquisa para serem respondidas:\n",
    "\n",
    "1. Qual o tamanho do conjunto de core developers dos sistemas analisados? Isto é, qual o sistema que tem o maior número de core developers?\n",
    "2. Existem core developers que são bots? Se sim, o que esses bots fazem?\n",
    "3. Como o tamanho deste conjunto de core developers varia por linguagem?\n",
    "4. Como o tamanho deste conjunto de core developers varia por idade dos sistemas? Isto é, sistemas mais velhos tendem a ter mais core developers?\n",
    "5. De quantos projetos os desenvolvedores analisados são core developers?\n",
    "6. Como o tamanho deste conjunto de core developers varia com o número de commits de um sistema? Isto é, sistemas com muitos commits tendem a ter mais core developers?"
   ]
  },
  {
   "cell_type": "markdown",
   "metadata": {},
   "source": [
    "## Metodologia\n",
    "\n",
    "Para identificar os desenvolvedores core developers, a API do GitHub foi utilizada para coletar os dados dos projetos e seus contribuidores. Os dados obtidos através da API em formato JSON foram armazados para que pudessem ser manipulados.\n",
    "\n",
    "**Limitação de Taxa**\n",
    "\n",
    "A API do GitHub permite uma taxa de 60 solicitações não autenticadas por hora. Essas solicições são associadas ao endereço IP de origem e não ao usuário que faz solicitações. Para que todos os dados sejam coletados, diversas requisições são realizadas, ultrapassando o limite permitidio. Sendo assim, é necessário realizar uma autenticação na API, permitindo que até 5000 solicitações sejam realizadas por hora. Informe seu username e seu token do GitHub para continuar. "
   ]
  },
  {
   "cell_type": "code",
   "execution_count": 502,
   "metadata": {},
   "outputs": [],
   "source": [
    "username = 'lukaopc2'\n",
    "token = '86f9e5ce9d6d29f9fa78cf478511c0cb0d9a6c24'"
   ]
  },
  {
   "cell_type": "markdown",
   "metadata": {},
   "source": [
    "Neste estudo foi coletado 50 projetos com mais estrelas para cada uma das seguintes linguagens: JavaScript, Python, Ruby, Java e PHP."
   ]
  },
  {
   "cell_type": "code",
   "execution_count": 503,
   "metadata": {},
   "outputs": [],
   "source": [
    "languages = ['JavaScript', 'Python', 'Ruby', 'Java', 'PHP']\n",
    "languagesSize = len(languages)\n",
    "\n",
    "sort = 'stars'\n",
    "order = 'desc'"
   ]
  },
  {
   "cell_type": "markdown",
   "metadata": {},
   "source": [
    "O código principal a seguir apresenta os principais mecanismos para obter as informações dos projetos e de seus colaboradores. Inicilamente, os 50 principais projetos são obtidos de cada linguagem. Para cada projeto, é armazenado algumas informações importantes, como seu nome, data de criação e a lista de seus colaboradores. Em seguida, esse lista é acessada e o total de contribuições de um desenvolvedor é incrementado ao total de commites do projeto, inicialmente setado como zero. Nesse ponto, já se conhece o número de commits do projeto, permitindo que as porcentagens de 80% do total de commits e 5% do total de commits individual seja calculado.\n",
    "\n",
    "Todos os colaboradores com os maiores commites são novamente analisados para verificar se atendem as duas condições para serem core developers. Quando os core developers atingirem 80% do total de commits do projeto, a análise é finalizada e os core developers são armazenados."
   ]
  },
  {
   "cell_type": "code",
   "execution_count": 504,
   "metadata": {},
   "outputs": [
    {
     "name": "stdout",
     "output_type": "stream",
     "text": [
      "freeCodeCamp\n",
      "vue\n",
      "react\n",
      "d3\n",
      "javascript\n",
      "react-native\n",
      "angular.js\n",
      "Font-Awesome\n",
      "create-react-app\n",
      "node\n",
      "jquery\n",
      "axios\n",
      "atom\n",
      "three.js\n",
      "redux\n",
      "webpack\n",
      "socket.io\n",
      "Semantic-UI\n",
      "reveal.js\n",
      "html5-boilerplate\n",
      "meteor\n",
      "express\n",
      "material-ui\n",
      "Chart.js\n",
      "moment\n",
      "free-programming-books-zh_CN\n",
      "resume.github.com\n",
      "puppeteer\n",
      "javascript-algorithms\n",
      "json-server\n",
      "lodash\n",
      "impress.js\n",
      "materialize\n",
      "yarn\n",
      "react-router\n",
      "hacker-scripts\n",
      "markdown-here\n",
      "gulp\n",
      "Front-End-Checklist\n",
      "incubator-echarts\n",
      "brackets\n",
      "jQuery-File-Upload\n",
      "babel\n",
      "next.js\n",
      "storybook\n",
      "backbone\n",
      "Ghost\n",
      "prettier\n",
      "parcel\n",
      "pm2\n",
      "awesome-python\n",
      "system-design-primer\n",
      "public-apis\n",
      "youtube-dl\n",
      "models\n",
      "flask\n",
      "thefuck\n",
      "httpie\n",
      "django\n",
      "awesome-machine-learning\n",
      "requests\n",
      "keras\n",
      "ansible\n",
      "scikit-learn\n",
      "scrapy\n",
      "shadowsocks\n",
      "XX-Net\n",
      "big-list-of-naughty-strings\n",
      "certbot\n",
      "you-get\n",
      "CppCoreGuidelines\n",
      "cpython\n",
      "Deep-Learning-Papers-Reading-Roadmap\n",
      "linux-insides\n",
      "tldr\n",
      "sentry\n",
      "YouCompleteMe\n",
      "python-patterns\n",
      "tornado\n",
      "face_recognition\n",
      "home-assistant\n",
      "Detectron\n",
      "pandas\n",
      "jieba\n",
      "interactive-coding-challenges\n",
      "reddit\n",
      "wechat_jump_game\n",
      "compose\n",
      "data-science-ipython-notebooks\n",
      "cheat.sh\n",
      "gym\n",
      "macOS-Security-and-Privacy-Guide\n",
      "source-code-pro\n",
      "pipenv\n",
      "localstack\n",
      "ipython\n",
      "algorithms\n",
      "ZeroNet\n",
      "ItChat\n",
      "mitmproxy\n",
      "rails\n",
      "jekyll\n",
      "legacy-homebrew\n",
      "discourse\n",
      "fastlane\n",
      "awesome-awesomeness\n",
      "gitlabhq\n",
      "awesome-react-native\n",
      "huginn\n",
      "devise\n",
      "devdocs\n",
      "vagrant\n",
      "mastodon\n",
      "ruby\n",
      "engineering-blogs\n",
      "brew\n",
      "homebrew-cask\n",
      "metasploit-framework\n",
      "bootstrap-sass\n",
      "diaspora\n",
      "sass\n",
      "CocoaPods\n",
      "capistrano\n",
      "sinatra\n",
      "hacker101\n",
      "octopress\n",
      "spree\n",
      "rubocop\n",
      "logstash\n",
      "paperclip\n",
      "sidekiq\n",
      "bourbon\n",
      "fpm\n",
      "grape\n",
      "capybara\n",
      "postal\n",
      "resque\n",
      "activeadmin\n",
      "carrierwave\n",
      "tmuxinator\n",
      "whenever\n",
      "guides\n",
      "quine-relay\n",
      "kaminari\n",
      "simple_form\n",
      "faker\n",
      "rails_admin\n",
      "fluentd\n",
      "omniauth\n",
      "liquid\n",
      "java-design-patterns\n",
      "RxJava\n",
      "elasticsearch\n",
      "retrofit\n",
      "okhttp\n",
      "spring-boot\n",
      "guava\n",
      "interviews\n",
      "MPAndroidChart\n",
      "spring-framework\n",
      "glide\n",
      "lottie-android\n",
      "butterknife\n",
      "incubator-dubbo\n",
      "leakcanary\n",
      "zxing\n",
      "AndroidUtilCode\n",
      "EventBus\n",
      "RxAndroid\n",
      "Android-Universal-Image-Loader\n",
      "picasso\n",
      "jadx\n",
      "netty\n",
      "fresco\n",
      "fastjson\n",
      "BaseRecyclerViewAdapterHelper\n",
      "Hystrix\n",
      "libgdx\n",
      "SmartRefreshLayout\n",
      "PhotoView\n",
      "proxyee-down\n",
      "gson\n",
      "druid\n",
      "tinker\n",
      "Android-CleanArchitecture\n",
      "Material-Animations\n",
      "selenium\n",
      "plaid\n",
      "JCSprout\n",
      "zheng\n",
      "SlidingMenu\n",
      "jenkins\n",
      "ExoPlayer\n",
      "androidannotations\n",
      "incubator-weex\n",
      "AndroidSwipeLayout\n",
      "greenDAO\n",
      "Telegram\n",
      "CircleImageView\n",
      "android-async-http\n",
      "laravel\n",
      "symfony\n",
      "Faker\n",
      "CodeIgniter\n",
      "composer\n",
      "DesignPatternsPHP\n",
      "SecLists\n",
      "guzzle\n",
      "framework\n",
      "yii2\n",
      "PHPMailer\n",
      "monolog\n",
      "WordPress\n",
      "phpunit\n",
      "PHPExcel\n",
      "phabricator\n",
      "Carbon\n",
      "matomo\n",
      "sage\n",
      "grav\n",
      "koel\n",
      "Slim\n",
      "cphalcon\n",
      "Cachet\n",
      "parsedown\n",
      "Mobile-Detect\n",
      "flarum\n",
      "whoops\n",
      "laravel-debugbar\n",
      "image\n",
      "api\n",
      "cakephp\n",
      "phpdotenv\n",
      "PHP-Parser\n",
      "october\n",
      "laravel-ide-helper\n",
      "flysystem\n",
      "wechat\n",
      "voyager\n",
      "Workerman\n",
      "Goutte\n",
      "jwt-auth\n",
      "uuid\n",
      "PHP-CS-Fixer\n",
      "react\n",
      "core\n",
      "php-ml\n",
      "labs\n",
      "deployer\n",
      "magento2\n"
     ]
    }
   ],
   "source": [
    "# Biblioteca para manipular JSON\n",
    "import requests\n",
    "import json\n",
    "\n",
    "# Desenvolvedores core developer\n",
    "devCoreDeveloper = []\n",
    "devCoreDeveloperRepo = []\n",
    "\n",
    "# Lista as principais informações dos projetos\n",
    "list = []\n",
    "\n",
    "# Loop para obter os dados de todas as linguagens\n",
    "for h in range(languagesSize): \n",
    "    \n",
    "    language = languages[h]\n",
    "    \n",
    "    # Requisição dos 50 principais projetos da linguagem\n",
    "    repos = requests.get('https://api.github.com/search/repositories?q=language:' + language + '&sort=' + sort + '&order=' + order + '&per_page=50')\n",
    "    reposItem = json.loads(repos.text or repos.content)\n",
    "    \n",
    "    # Quantidade de projetos obtidos\n",
    "    reposSize = len(reposItem['items'])\n",
    "    \n",
    "    # Loop para obter os dados de todos os projetos\n",
    "    for i in range(reposSize):\n",
    "        \n",
    "        # Principais dados dos projetos\n",
    "        name = reposItem['items'][i]['name']\n",
    "        #print(name)\n",
    "        createdAt = reposItem['items'][i]['created_at']\n",
    "        contributorsUrl = reposItem['items'][i]['contributors_url']\n",
    "\n",
    "        # Página atual com apenas 100 contribuidores\n",
    "        page = 1\n",
    "        \n",
    "        # Verifica se existem novos contribuidores na lista\n",
    "        contributorsSize = 1\n",
    "        \n",
    "        # Total de commits do projeto\n",
    "        commitsCount = 0\n",
    "        \n",
    "        # Total de contribuidores do projeto\n",
    "        contributorsCount = 0\n",
    "\n",
    "        # Loop para obter os dados de todos os contridores e identificar o total de commits do projeto\n",
    "        while(contributorsSize > 0):\n",
    "            \n",
    "            # Requisição da página com, no máximo, 100 contribudores do projeto\n",
    "            contributors = requests.get(contributorsUrl, '?&per_page=100&page=' + str(page), auth=(username,token))\n",
    "            contributorsItem = json.loads(contributors.text or contributors.content)\n",
    "            contributorsSize = (len(contributorsItem))\n",
    "            \n",
    "            # Loop para obter os dados de um contribuidor do projeto\n",
    "            for j in range(contributorsSize):\n",
    "\n",
    "                contributions = contributorsItem[j]['contributions']\n",
    "                commitsCount = commitsCount + contributions\n",
    "                contributorsCount = contributorsCount + 1\n",
    "\n",
    "            page = page + 1\n",
    "            #contributorsSize = 0\n",
    "\n",
    "        # Porcentagem mínima de commits de cada contribuidor\n",
    "        porcentageContributor5 = (commitsCount * 5)/100\n",
    "\n",
    "        # Porcentagem de commits total\n",
    "        commitsTotal80 = (commitsCount * 80)/100\n",
    "        \n",
    "        # Total de core developers\n",
    "        coreDevelopersCount = 0\n",
    "                \n",
    "        #Varíaveis auxiliares\n",
    "        page = 1\n",
    "        contributorsSize = 1\n",
    "        commitsCount = 0\n",
    "        newCoreDeveloper = 1\n",
    "        \n",
    "        # Loop para obter novamente os dados dos contribudores e identificar os core developers\n",
    "        while(contributorsSize > 0 and newCoreDeveloper == 1):\n",
    "            \n",
    "            # Requisição de um contribuidor do projeto\n",
    "            contributors = requests.get(contributorsUrl, '?&per_page=1&page=' + str(page), auth=(username,token))\n",
    "            contributorsItem = json.loads(contributors.text or contributors.content)\n",
    "            contributorsSize = (len(contributorsItem))\n",
    "            \n",
    "            # Verifica se existe contribuidor para ser analizado\n",
    "            if(contributorsSize > 0):\n",
    "                login = contributorsItem[0]['login']\n",
    "                contributions = contributorsItem[0]['contributions']\n",
    "                \n",
    "                # Verifica se o contribuidor pode ser core developer\n",
    "                if(contributions >= porcentageContributor5):\n",
    "                    \n",
    "                    # Verifica se o contribuidor pode ser core developer\n",
    "                    if(commitsCount <= commitsTotal80):\n",
    "                        coreDevelopersCount = coreDevelopersCount + 1\n",
    "                        commitsCount = commitsCount + contributions\n",
    "                        #print ('Core Developers')\n",
    "                        #print ('Login: ' + login + \" Contributions: \", contributions)\n",
    "                        devCoreDeveloper = devCoreDeveloper + [login]\n",
    "                        devCoreDeveloperRepo = devCoreDeveloperRepo + [name]\n",
    "                        \n",
    "                    else:\n",
    "                        newCoreDeveloper = 0 \n",
    "                        \n",
    "                else:\n",
    "                    newCoreDeveloper = 0\n",
    "                \n",
    "            # Incremento para analisar o próximo contribuidor\n",
    "            page = page + 1\n",
    "\n",
    "        # Defini dados do projeto\n",
    "        tuple = (language, name, createdAt, commitsCount, contributorsCount, coreDevelopersCount)\n",
    "        list = list + [tuple]"
   ]
  },
  {
   "cell_type": "markdown",
   "metadata": {},
   "source": [
    "O trecho de código acima armazena 6 informações de cada projeto em uma lista. Essas informações serão utilizadas na seção a seguir para responder as questões de pesquisa. Tais informações são listadas abaixo:\n",
    "    \n",
    "1. Linguagem \n",
    "2. Nome\n",
    "3. Data de criação\n",
    "4. Total de commits\n",
    "5. Total de contribuidores \n",
    "6. Total de core developers\n",
    "\n",
    "Os dados brutos podem ser visualizados descomentando o trecho de código a seguir:"
   ]
  },
  {
   "cell_type": "code",
   "execution_count": 566,
   "metadata": {},
   "outputs": [],
   "source": [
    "listSize = len(list)\n",
    "#for i in range(listSize):\n",
    "#    print(list[i])"
   ]
  },
  {
   "cell_type": "markdown",
   "metadata": {},
   "source": [
    "## Resultados\n",
    "\n",
    "Nesta seção serão apresentados os resultados para cada questão de pesquisa. Foi utilizado a biblioteca Matplotlib para gerar gráficos a partir dos escripts em Phyton."
   ]
  },
  {
   "cell_type": "code",
   "execution_count": 567,
   "metadata": {},
   "outputs": [],
   "source": [
    "import numpy as np\n",
    "import matplotlib.pyplot as plt"
   ]
  },
  {
   "cell_type": "markdown",
   "metadata": {},
   "source": [
    "**1. Qual o tamanho do conjunto de core developers dos sistemas analisados? Isto é, qual o sistema que tem o maior número de core developers?**\n",
    "\n",
    "No gráfico a seguir é apresentado a quantidade projetos por core developers, isto é, por exemplo, quantos projetos possuem 1 core developer e assim por diante. Percebe-se que 1 core developer é predominante em aproximadamente 70 projetos. O número de projetos tende a cair sequencialmente quando o número de core developers aumenta. Pode-se identificar uma equivaência entre projetos com 2,3 e 4,5 core developers. Poucos projetos possuem 6, 7 ou 8 core developers."
   ]
  },
  {
   "cell_type": "code",
   "execution_count": 574,
   "metadata": {},
   "outputs": [
    {
     "data": {
      "image/png": "[encoded data removed]",
      "text/plain": [
       "<Figure size 432x288 with 1 Axes>"
      ]
     },
     "metadata": {},
     "output_type": "display_data"
    }
   ],
   "source": [
    "# Calculando o total de core developers\n",
    "\n",
    "bars = []\n",
    "height = []\n",
    "\n",
    "mostCoreDevelopers = 0\n",
    "\n",
    "for i in range(listSize):\n",
    "    if(list[i][5] > mostCoreDevelopers):\n",
    "        mostCoreDevelopers = list[i][5]\n",
    "\n",
    "contCoreDevelopers = 0\n",
    "        \n",
    "for i in range(mostCoreDevelopers):\n",
    "    index = i+1\n",
    "    bars = bars + [index]\n",
    "    for j in range(listSize):\n",
    "        if (index == list[j][5]):\n",
    "            contCoreDevelopers = contCoreDevelopers + 1\n",
    "    height = height + [contCoreDevelopers]\n",
    "    contCoreDevelopers = 0\n",
    "\n",
    "# Barras\n",
    "y_pos = np.arange(len(bars))\n",
    "plt.bar(y_pos, height)\n",
    " \n",
    "# Nomes no eixo x\n",
    "plt.xticks(y_pos, bars)\n",
    "\n",
    "# Labels\n",
    "plt.title('Total de core developers nos projetos')\n",
    "plt.xlabel('Número de core developers')\n",
    "plt.ylabel('Quantidade de projetos')    \n",
    "\n",
    "# Mostrar o gráfico\n",
    "plt.show()"
   ]
  },
  {
   "cell_type": "markdown",
   "metadata": {},
   "source": [
    "O trecho de código a seguir apresenta o nome de todos os projetos que possuem a maior quantidade de core developers."
   ]
  },
  {
   "cell_type": "code",
   "execution_count": 577,
   "metadata": {},
   "outputs": [
    {
     "name": "stdout",
     "output_type": "stream",
     "text": [
      "PROJETOS COM 1 CORE DEVELOPERS\n",
      "['vue', 'webpack', 'Semantic-UI', 'reveal.js', 'javascript-algorithms', 'json-server', 'lodash', 'hacker-scripts', 'markdown-here', 'Front-End-Checklist', 'jQuery-File-Upload', 'awesome-python', 'system-design-primer', 'httpie', 'keras', 'shadowsocks', 'big-list-of-naughty-strings', 'linux-insides', 'tornado', 'face_recognition', 'interactive-coding-challenges', 'data-science-ipython-notebooks', 'localstack', 'ItChat', 'fastlane', 'awesome-react-native', 'devdocs', 'sass', 'sidekiq', 'fpm', 'grape', 'postal', 'quine-relay', 'glide', 'lottie-android', 'butterknife', 'zxing', 'AndroidUtilCode', 'EventBus', 'Android-Universal-Image-Loader', 'jadx', 'fastjson', 'SmartRefreshLayout', 'proxyee-down', 'druid', 'Android-CleanArchitecture', 'Material-Animations', 'JCSprout', 'zheng', 'greenDAO', 'CircleImageView', 'laravel', 'Faker', 'guzzle', 'PHPMailer', 'monolog', 'phpunit', 'PHPExcel', 'koel', 'laravel-debugbar', 'image', 'PHP-Parser', 'laravel-ide-helper', 'flysystem', 'Workerman', 'jwt-auth', 'deployer']\n"
     ]
    }
   ],
   "source": [
    "listMostCoreDeveloper = []\n",
    "repoMostCoreDeveloperCount = 0\n",
    "coreDeveloperIndex = 0\n",
    "\n",
    "for i in range(len(height)):\n",
    "    if(height[i] > repoMostCoreDeveloperCount):\n",
    "        repoMostCoreDeveloperCount = height[i]\n",
    "        coreDeveloperIndex = i+1\n",
    "\n",
    "print('PROJETOS COM', coreDeveloperIndex, 'CORE DEVELOPERS')\n",
    "\n",
    "for i in range(listSize):\n",
    "    if(list[i][5] == coreDeveloperIndex):\n",
    "        listMostCoreDeveloper = listMostCoreDeveloper + [list[i][1]]\n",
    "\n",
    "print(listMostCoreDeveloper)"
   ]
  },
  {
   "cell_type": "markdown",
   "metadata": {},
   "source": [
    "**2. Existem core developers que são bots? Se sim, o que esses bots fazem?**"
   ]
  },
  {
   "cell_type": "markdown",
   "metadata": {},
   "source": [
    "Colaboradores boots são aqueles usuários programados para realizaem determinadas ações, como subir commits específicos de após a ocorrência de um evento pré-definido. Esses colabores geralmente possuem um nome de usuário característico. Para responder essa pergunta, todos os core developers foram analisadas de maneira geral, verificando se algum deles possuia algum destaque. Quando algum login chamava atenção, o perfil do usuário foi analisado no GitHub."
   ]
  },
  {
   "cell_type": "code",
   "execution_count": 580,
   "metadata": {},
   "outputs": [
    {
     "name": "stdout",
     "output_type": "stream",
     "text": [
      "LOGIN DOS CORE DEVELOPERS\n",
      "['QuincyLarson', 'sahat', 'terakilobyte', 'raisedadead', 'yyx990803', 'zpao', 'sophiebits', 'gaearon', 'sebmarkbage', 'jimfb', 'mbostock', 'jasondavies', 'ljharb', 'hshoff', 'IgorMinar', 'petebacondarwin', 'mhevery', 'Narretz', 'vojtajina', 'gkalpak', 'matsko', 'robmadole', 'talbs', 'Timer', 'ry', 'bnoordhuis', 'isaacs', 'Trott', 'jeresig', 'timmywil', 'dmethvin', 'jzaefferer', 'rwaldron', 'mzabriskie', 'nickuraltsev', 'kevinsawicki', 'nathansobo', 'benogle', 'as-cii', 'maxbrunsfeld', 'mrdoob', 'alteredq', 'markerikson', 'timdorr', 'sokra', 'rauchg', '3rd-Eden', 'einaros', 'jlukic', 'hakimel', 'paulirish', 'necolas', 'alrra', 'glasser', 'benjamn', 'dgreensp', 'Slava', 'stubailo', 'avital', 'n1mmy', 'tj', 'dougwilson', 'oliviertassinari', 'hai-cea', 'mbrookes', 'etimberg', 'tannerlinsley', 'simonbrunel', 'ichernev', 'timrwood', 'icambron', 'justjavac', 'spacewander', 'u2', 'NumEricR', 'n1k0', 'aslushnikov', 'JoelEinbinder', 'trekhleb', 'typicode', 'jdalton', 'bartaz', 'henrikingo', 'Dogfalo', 'acburst', 'kittens', 'bestander', 'BYK', 'mjackson', 'ryanflorence', 'taion', 'NARKOZ', 'adam-p', 'contra', 'phated', 'thedaviddias', 'pissang', '100pah', 'kener', 'redmunds', 'jasonsanjose', 'njx', 'peterflynn', 'gruehle', 'RaymondLim', 'dangoor', 'blueimp', 'hzoo', 'loganfsmyth', 'timneutkens', 'arunoda', 'nkzawa', 'greenkeeper[bot]', 'Hypnosphi', 'dependencies-bot', 'ndelangen', 'shilman', 'mnmtanish', 'igor-dv', 'jashkenas', 'braddunbar', 'akre54', 'jridgewell', 'ErisDS', 'kirrg001', 'JohnONolan', 'kevinansfield', 'sebgie', 'vjeux', 'ikatyang', 'azz', 'duailibe', 'jlongster', 'devongovett', 'DeMoorJasper', 'Unitech', 'jshkurti', 'vmarchaud', 'soyuka', 'vinta', 'donnemartin', 'davemachado', 'mikestreety', 'toddmotto', 'jbrooksuk', 'dstftw', 'phihag', 'jaimeMF', 'yan12125', 'remitamine', 'nealwu', 'MarkDaoust', 'mitsuhiko', 'davidism', 'untitaker', 'nvbn', 'mcarton', 'scorphus', 'josephfrazier', 'jakubroztocil', 'timgraham', 'adrianholovaty', 'malcolmt', 'freakboy3742', 'claudep', 'aaugustin', 'josephmisiti', 'josephmmisiti', 'kennethreitz', 'Lukasa', 'sigmavirus24', 'fchollet', 'mpdehaan', 'bcoca', 'jimi-c', 'abadger', 'ogrisel', 'amueller', 'fabianp', 'larsmans', 'agramfort', 'pablohoffman', 'dangra', 'kmike', 'redapple', 'invalid-email-address', 'clowwindy', 'xxnet', 'SeaHOH', 'yeahwu', 'minimaxir', 'bmw', 'pde', 'kuba', 'jdkasten', 'soimort', 'rosynirvana', 'cnbeining', 'gdr-at-ms', 'AndrewPardoe', 'tkruse', 'hsutter', 'BjarneStroustrup', 'gvanrossum', 'benjaminp', 'birkenfeld', 'freddrake', 'floodsung', 'Hrant-Khachatrian', 'mjanv', '7oud', 'clouds56', 'lzx1413', 'transwarpio', 'zhourunlai', '0xAX', 'waldyrious', 'igorshubovych', 'sbrl', 'rprieto', 'agnivade', 'dcramer', 'ckj', 'mattrobenolt', 'Valloric', 'micbou', 'homu', 'zzbot', 'faif', 'fkromer', '0--key', 'bdarnell', 'ageitgey', 'balloob', 'fabaff', 'ir413', 'rbgirshick', 'ashwinb', 'KaimingHe', 'jreback', 'wesm', 'y-p', 'jorisvandenbossche', 'fxsjy', 'gumblex', 'bsimpson63', 'spladug', 'chromakode', 'Deimos', 'madbook', 'kemitche', 'binderclip', 'wangshub', 'F-loat', 'leon332157', 'MrLevo520', 'shin-', 'aanand', 'dnephin', 'bfirsh', 'chubin', 'bglopez', 'gdb', 'jietang', 'jonasschneider', 'tlbtlbtlb', 'joschu', 'drduh', 'sqrthree', 'Or3stis', 'miguelsousa', 'pauldhunt', 'techalchemy', 'nateprewitt', 'uranusjr', 'whummer', 'minrk', 'takluyver', 'Carreau', 'jdfreder', 'ellisonbg', 'fperez', 'goswami-rahul', 'keon', 'danghai', 'christianbender', 'ankit167', 'SaadBenn', 'shortcutme', 'HelloZeroNet', 'littlecodersh', 'cortesi', 'mhils', 'Kriechi', 'rafaelfranca', 'tenderlove', 'dhh', 'jeremy', 'parkr', 'jekyllbot', 'BrewTestBot', 'jacknagel', 'adamv', 'MikeMcQuaid', 'eviltrout', 'SamSaffron', 'ZogStriP', 'tgxworld', 'nlalonde', 'coding-horror', 'techAPJ', 'KrauseFx', 'm1guelpf', 'bayandin', 'KleoPetroff', 'dzaporozhets', 'DouweM', 'rspeicher', 'jondot', 'cantino', 'knu', 'dsander', 'josevalim', 'carlosantoniodasilva', 'lucasmazza', 'Thibaut', 'mitchellh', 'chrisroberts', 'briancain', 'Gargron', 'ykzts', 'nobu', 'akr', 'matzbot', 'nurse', 'matz', 'kilimchoi', 'kaizensoze', 'duckspeaker', 'meisyal', 'reitermarkus', 'mxcl', 'rolandwalker', 'vitorgalvao', 'victorpopkov', 'h00die', 'msjenkins-r7', 'glebm', 'thomas-mcdonald', 'trisweb', 'jhass', 'maxwell', 'danielgrippi', 'svbergerem', 'SuperTux88', 'nex3', 'fabiopelosin', 'segiddins', 'alloy', 'mrackwitz', 'dnkoutso', 'leehambley', 'mattbrictson', 'seenmyfate', 'will-in-wi', 'rkh', 'zzak', 'rtomayko', 'daeken', 'EdOverflow', 'reedloden', 'imathis', 'fhemberger', 'radar', 'schof', 'damianlegawiec', 'JDutil', 'bbatsov', 'jonas054', 'alexdowad', 'yujinakayama', 'jordansissel', 'original-brownbear', 'sikachu', 'tute', 'mike-burns', 'mperham', 'tysongach', 'joshuaogle', 'dblock', 'twalpole', 'jnicklas', 'adamcooke', 'defunkt', 'steveklabnik', 'seanlinsley', 'gregbell', 'timoschilling', 'deivid-rodriguez', 'pcreux', 'bensie', 'trevorturk', 'Soliah', 'ethagnawl', 'aziz', 'adamstrickland', 'J3RN', 'javan', 'benlangfeld', 'croaky', 'jferris', 'mame', 'amatsuda', 'yuki24', 'nashby', 'stympy', 'vbrazo', 'bbenezech', 'sferik', 'mshibuya', 'kaapa', 'gunn', 'repeatedly', 'tagomoris', 'frsyuki', 'okkez', 'tmilewski', 'jamesarosen', 'chrispeterson', 'fw42', 'pushrax', 'dylanahsmith', 'trishume', 'tobi', 'iluwatar', 'npathai', 'benjchristensen', 'akarnokd', 'zsxwing', 'kimchy', 's1monw', 'jasontedor', 'martijnvg', 'JakeWharton', 'swankjesse', 'adriancole', 'wilkinsona', 'snicoll', 'philwebb', 'dsyer', 'cpovirk', 'kluever', 'cgdecker', 'lowasser', 'Bezier89', 'fatosmorina', 'kdn251', 'PhilJay', 'danielgindi', 'jhoeller', 'rstoyanchev', 'sbrannen', 'poutsma', 'cbeams', 'sjudd', 'gpeal', 'chickenlj', 'beiwei30', 'liangfei0201', 'oldratlee', 'ralf0131', 'pyricau', 'jrodbx', 'srowen', 'Blankj', 'greenrobot', 'mttkay', 'dlew', 'nostra13', 'skylot', 'trustin', 'normanmaurer', 'Scottmitch', 'oprisnik', 'massimocarli', 'tyronen', 'kirwan', 'lambdapioneer', 'wenshao', 'CymChad', 'ChadCym', 'AllenCoder', 'mattrjacobs', 'dmgcodevil', 'NathanSweet', 'badlogic', 'xoppa', 'MobiDevelop', 'scwang90', 'chrisbanes', 'smarek', 'Jawnnypoo', 'monkeyWie', 'inder123', 'joel-leitch', 'tomystang', 'shwenzhang', 'android10', 'lgvalle', 'shs96c', 'barancev', 'jimevans', 'jleyba', 'jarib', 'dfabulich', 'illicitonion', 'nickbutcher', 'florina-muntenescu', 'tiembo', 'crossoverJie', 'shuzheng', 'jfeinstein10', 'donnfelker', 'hwrdprkns', 'chrisjenx', 'kohsuke', 'jglick', 'daniel-beck', 'oleg-nenashev', 'ojw28', 'andrewlewis', 'AquilesCanta', 'tonihei', 'WonderCsabo', 'yDelouis', 'dodgex', 'DayS', 'sospartan', 'acton393', 'cxfeng1', 'MrRaindrop', 'kfeagle', 'zshshr', 'daimajia', 'HarshEvilGeek', 'jpshelley', 'jsonchi', 'zhukov', 'MasterGroosha', 'Bubu', 'slp', 'spagy', 'yorlov', 'abcdeiko', 'hdodenhof', 'loopj', 'fineswap', 'taylorotwell', 'fabpot', 'nicolas-grekas', 'fzaninotto', 'narfbg', 'derekjones', 'Seldaek', 'naderman', 'domnikl', 'piotrgradzinski', 'danielmiessler', 'g0tmi1k', 'jhaddix', 'mtdowling', 'GrahamCampbell', 'qiangxue', 'samdark', 'cebe', 'SilverFire', 'klimov-paul', 'Synchro', 'nacin', 'SergeyBiryukov', 'staylor', 'DrewAPicture', 'ocean90', 'sebastianbergmann', 'MarkBaker', 'epriestley', 'chadlittle', 'briannesbitt', 'kylekatarnls', 'lucasmichot', 'mattab', 'tsteur', 'sgiehl', 'diosmosis', 'robocoder', 'retlehs', 'swalkinshaw', 'QWp6t', 'rhukster', 'flaviocopes', 'mahagr', 'phanan', 'codeguy', 'akrabat', 'sjinks', 'sergeyklay', 'andresgutierrez', 'niden', 'dreamsxin', 'erusev', 'aidantwoods', 'serbanghita', 'Garthi', 'tobscure', 'franzliedke', 'denis-sokolov', 'filp', 'staabm', 'barryvdh', 'olivervogel', 'jasonlewis', 'hskrasek', 'markstory', 'lorenzo', 'ADmad', 'vlucas', 'nikic', 'daftspunk', 'alekseybobkov', 'frankdejonge', 'overtrue', 'mingyoung', 'marktopper', 'tnylea', 'akazorg', 'fletch3555', 'walkor', 'everzet', 'tymondesigns', 'ramsey', 'jmauerhan', 'keradus', 'SpacePossum', 'igorw', 'cboden', 'clue', 'DeepDiver1975', 'PVince81', 'icewind1991', 'schiessle', 'LukasReschke', 'MorrisJobke', 'akondas', 'marmichalski', 'ManoMarks', 'arun-gupta', 'antonmedv']\n"
     ]
    }
   ],
   "source": [
    "auxDevCoreDeveloper = devCoreDeveloper\n",
    "\n",
    "# Remove core developers duplicados\n",
    "noDupes = [x for n, x in enumerate(devCoreDeveloper) if x not in devCoreDeveloper[:n]]\n",
    "print('LOGIN DOS CORE DEVELOPERS')\n",
    "print(noDupes)\n",
    "\n",
    "devCoreDeveloper = auxDevCoreDeveloper"
   ]
  },
  {
   "cell_type": "markdown",
   "metadata": {},
   "source": [
    "Ao analisar os nomes dos usuários acima, não foi possível confirmar a presença de nenhum boot no conjunto de core developers."
   ]
  },
  {
   "cell_type": "markdown",
   "metadata": {},
   "source": [
    "**3. Como o tamanho deste conjunto de core developers varia por linguagem?**"
   ]
  },
  {
   "cell_type": "markdown",
   "metadata": {},
   "source": [
    "Para responder essa questão de pesquisa, os dados des core developers foram avaliados para cada uma das 5 linguagens. Foram criado 5 gráficos com a quantidade de core developers para cada linguagem de desenvolvimento de sistema."
   ]
  },
  {
   "cell_type": "code",
   "execution_count": 510,
   "metadata": {},
   "outputs": [
    {
     "data": {
      "image/png": "[encoded data removed]",
      "text/plain": [
       "<Figure size 432x288 with 1 Axes>"
      ]
     },
     "metadata": {},
     "output_type": "display_data"
    },
    {
     "data": {
      "image/png": "[encoded data removed]",
      "text/plain": [
       "<Figure size 432x288 with 1 Axes>"
      ]
     },
     "metadata": {},
     "output_type": "display_data"
    },
    {
     "data": {
      "image/png": "[encoded data removed]",
      "text/plain": [
       "<Figure size 432x288 with 1 Axes>"
      ]
     },
     "metadata": {},
     "output_type": "display_data"
    },
    {
     "data": {
      "image/png": "[encoded data removed]",
      "text/plain": [
       "<Figure size 432x288 with 1 Axes>"
      ]
     },
     "metadata": {},
     "output_type": "display_data"
    },
    {
     "data": {
      "image/png": "[encoded data removed]",
      "text/plain": [
       "<Figure size 432x288 with 1 Axes>"
      ]
     },
     "metadata": {},
     "output_type": "display_data"
    }
   ],
   "source": [
    "bars = []\n",
    "\n",
    "for i in range(mostCoreDevelopers):\n",
    "    index = i+1\n",
    "    bars = bars + [index]\n",
    "\n",
    "for h in range(languagesSize):    \n",
    "    height = []\n",
    "\n",
    "    countCoreDevelopersLanguage = 0\n",
    "\n",
    "    for i in range(mostCoreDevelopers):\n",
    "        index = i+1\n",
    "        for j in range(listSize):\n",
    "            if (index == list[j][5] and languages[h] == list[j][0]):\n",
    "                countCoreDevelopersLanguage = countCoreDevelopersLanguage + 1\n",
    "        height = height + [countCoreDevelopersLanguage]\n",
    "        countCoreDevelopersLanguage = 0\n",
    "    \n",
    "    y_pos = np.arange(len(bars))\n",
    "    plt.bar(y_pos, height)\n",
    "    \n",
    "    axes = plt.gca()\n",
    "    axes.set_ylim([0,repoMostCoreDeveloperCount])\n",
    "\n",
    "    # Nomes no eixo x\n",
    "    plt.xticks(y_pos, bars)\n",
    "\n",
    "    # Labels\n",
    "    plt.title('Total de core developers nos projetos '+ languages[h])\n",
    "    plt.xlabel('Número de core developers')\n",
    "    plt.ylabel('Quantidade de projetos')    \n",
    "\n",
    "    # Mostrar o gráfico\n",
    "    plt.show()"
   ]
  },
  {
   "cell_type": "markdown",
   "metadata": {},
   "source": [
    "É interessante notar que não existem diferenças significativas do número de core developers por linguagem. No geral, a quantidade de projetos tende a diminuir com o aumento do número de core developers."
   ]
  },
  {
   "cell_type": "markdown",
   "metadata": {},
   "source": [
    "**4. Como o tamanho deste conjunto de core developers varia por idade dos sistemas? Isto é, sistemas mais velhos tendem a ter mais core developers?**"
   ]
  },
  {
   "cell_type": "markdown",
   "metadata": {},
   "source": [
    "Para responder a quarta pergunta, a data de criação dos projetos foi analisada juntamente com sua quantidade de core developers. Foi possível identificar que não existe uma relação explífica da quantidade de core developers pela idade do sistema."
   ]
  },
  {
   "cell_type": "code",
   "execution_count": 511,
   "metadata": {},
   "outputs": [
    {
     "data": {
      "text/plain": [
       "Text(0,0.5,'Quantidade de projetos')"
      ]
     },
     "execution_count": 511,
     "metadata": {},
     "output_type": "execute_result"
    },
    {
     "data": {
      "image/png": "[encoded data removed]",
      "text/plain": [
       "<Figure size 432x288 with 1 Axes>"
      ]
     },
     "metadata": {},
     "output_type": "display_data"
    }
   ],
   "source": [
    "# Intervalo dos anos de criação dos projetos\n",
    "years = []\n",
    "\n",
    "# Ano atual\n",
    "today = 2018\n",
    "\n",
    "# Ano mais antigo de criação projeto\n",
    "mostOld = today\n",
    "\n",
    "for i in range(len(list)):\n",
    "    yearCreated = int(list[i][2][:4])\n",
    "    if (yearCreated < mostOld):\n",
    "        mostOld = yearCreated\n",
    "\n",
    "# Diferença entre hoje e o ano mais antigo\n",
    "diferenceYears = today - mostOld + 1\n",
    "\n",
    "for i in range(diferenceYears):\n",
    "    years = years + [today - i]\n",
    "\n",
    "years.sort()\n",
    "coreDevelopers = []\n",
    "bars = []\n",
    "\n",
    "# Identificar a número de core developers\n",
    "for i in range(mostCoreDevelopers):\n",
    "    index = i+1\n",
    "    bars = bars + [index]\n",
    "\n",
    "# Valor de cada valor de core developer\n",
    "line = []\n",
    "\n",
    "y_pos = np.arange(len(years))\n",
    "plt.xticks(y_pos, years)\n",
    "\n",
    "# Criar linha no gráfico\n",
    "for i in range(len(bars)):\n",
    "    line = []\n",
    "    for j in range(len(years)):\n",
    "        countCoreDevelopersByYear = 0\n",
    "        for k in range(len(list)):\n",
    "            if(years[j] == int(list[k][2][:4]) and bars[i] == list[k][5]):\n",
    "                countCoreDevelopersByYear = countCoreDevelopersByYear + 1\n",
    "        line = line + [countCoreDevelopersByYear]\n",
    "    labelGraph = str(i+1) + ' Core Developers'\n",
    "    plt.plot(line, label=labelGraph)\n",
    "    #print(line)\n",
    "\n",
    "plt.legend(bbox_to_anchor=(1.05, 1), loc=2, borderaxespad=0)\n",
    "\n",
    "plt.title('Core developers por ano de criação do projeto')\n",
    "plt.xlabel('Criação do projeto')\n",
    "plt.ylabel('Quantidade de projetos')  "
   ]
  },
  {
   "cell_type": "markdown",
   "metadata": {},
   "source": [
    "**5. De quantos projetos os desenvolvedores analisados são core developers?**"
   ]
  },
  {
   "cell_type": "markdown",
   "metadata": {},
   "source": [
    "Identificou-se que a maioria dos core developers é core developer de apenas um projeto. No entanto, alguns contribuem para mais de um. Na tabela abaixo são apresentados os usuários que são core developers de 2 ou mais projetos. São poucos os usuários que contribuem para mais de 2, entretando alguns de destacam."
   ]
  },
  {
   "cell_type": "code",
   "execution_count": 561,
   "metadata": {},
   "outputs": [
    {
     "data": {
      "text/html": [
       "<div>\n",
       "<style scoped>\n",
       "    .dataframe tbody tr th:only-of-type {\n",
       "        vertical-align: middle;\n",
       "    }\n",
       "\n",
       "    .dataframe tbody tr th {\n",
       "        vertical-align: top;\n",
       "    }\n",
       "\n",
       "    .dataframe thead th {\n",
       "        text-align: right;\n",
       "    }\n",
       "</style>\n",
       "<table border=\"1\" class=\"dataframe\">\n",
       "  <thead>\n",
       "    <tr style=\"text-align: right;\">\n",
       "      <th></th>\n",
       "      <th>Número de projetos em que é core developer</th>\n",
       "    </tr>\n",
       "  </thead>\n",
       "  <tbody>\n",
       "    <tr>\n",
       "      <th>gaearon</th>\n",
       "      <td>3</td>\n",
       "    </tr>\n",
       "    <tr>\n",
       "      <th>timdorr</th>\n",
       "      <td>2</td>\n",
       "    </tr>\n",
       "    <tr>\n",
       "      <th>kittens</th>\n",
       "      <td>2</td>\n",
       "    </tr>\n",
       "    <tr>\n",
       "      <th>rauchg</th>\n",
       "      <td>2</td>\n",
       "    </tr>\n",
       "    <tr>\n",
       "      <th>arunoda</th>\n",
       "      <td>2</td>\n",
       "    </tr>\n",
       "    <tr>\n",
       "      <th>mitsuhiko</th>\n",
       "      <td>2</td>\n",
       "    </tr>\n",
       "    <tr>\n",
       "      <th>donnemartin</th>\n",
       "      <td>3</td>\n",
       "    </tr>\n",
       "    <tr>\n",
       "      <th>kennethreitz</th>\n",
       "      <td>2</td>\n",
       "    </tr>\n",
       "    <tr>\n",
       "      <th>MikeMcQuaid</th>\n",
       "      <td>2</td>\n",
       "    </tr>\n",
       "    <tr>\n",
       "      <th>jacknagel</th>\n",
       "      <td>2</td>\n",
       "    </tr>\n",
       "    <tr>\n",
       "      <th>adamv</th>\n",
       "      <td>2</td>\n",
       "    </tr>\n",
       "    <tr>\n",
       "      <th>parkr</th>\n",
       "      <td>2</td>\n",
       "    </tr>\n",
       "    <tr>\n",
       "      <th>jordansissel</th>\n",
       "      <td>2</td>\n",
       "    </tr>\n",
       "    <tr>\n",
       "      <th>jnicklas</th>\n",
       "      <td>2</td>\n",
       "    </tr>\n",
       "    <tr>\n",
       "      <th>tysongach</th>\n",
       "      <td>2</td>\n",
       "    </tr>\n",
       "    <tr>\n",
       "      <th>rafaelfranca</th>\n",
       "      <td>2</td>\n",
       "    </tr>\n",
       "    <tr>\n",
       "      <th>carlosantoniodasilva</th>\n",
       "      <td>2</td>\n",
       "    </tr>\n",
       "    <tr>\n",
       "      <th>josevalim</th>\n",
       "      <td>2</td>\n",
       "    </tr>\n",
       "    <tr>\n",
       "      <th>sferik</th>\n",
       "      <td>2</td>\n",
       "    </tr>\n",
       "    <tr>\n",
       "      <th>swankjesse</th>\n",
       "      <td>3</td>\n",
       "    </tr>\n",
       "    <tr>\n",
       "      <th>JakeWharton</th>\n",
       "      <td>6</td>\n",
       "    </tr>\n",
       "    <tr>\n",
       "      <th>benjchristensen</th>\n",
       "      <td>3</td>\n",
       "    </tr>\n",
       "    <tr>\n",
       "      <th>dnkoutso</th>\n",
       "      <td>2</td>\n",
       "    </tr>\n",
       "    <tr>\n",
       "      <th>jrodbx</th>\n",
       "      <td>2</td>\n",
       "    </tr>\n",
       "    <tr>\n",
       "      <th>wenshao</th>\n",
       "      <td>2</td>\n",
       "    </tr>\n",
       "    <tr>\n",
       "      <th>pyricau</th>\n",
       "      <td>2</td>\n",
       "    </tr>\n",
       "    <tr>\n",
       "      <th>greenrobot</th>\n",
       "      <td>2</td>\n",
       "    </tr>\n",
       "    <tr>\n",
       "      <th>smarek</th>\n",
       "      <td>2</td>\n",
       "    </tr>\n",
       "    <tr>\n",
       "      <th>taylorotwell</th>\n",
       "      <td>2</td>\n",
       "    </tr>\n",
       "    <tr>\n",
       "      <th>Seldaek</th>\n",
       "      <td>2</td>\n",
       "    </tr>\n",
       "    <tr>\n",
       "      <th>jbrooksuk</th>\n",
       "      <td>2</td>\n",
       "    </tr>\n",
       "    <tr>\n",
       "      <th>GrahamCampbell</th>\n",
       "      <td>3</td>\n",
       "    </tr>\n",
       "    <tr>\n",
       "      <th>lucasmichot</th>\n",
       "      <td>2</td>\n",
       "    </tr>\n",
       "    <tr>\n",
       "      <th>barryvdh</th>\n",
       "      <td>2</td>\n",
       "    </tr>\n",
       "    <tr>\n",
       "      <th>fabpot</th>\n",
       "      <td>3</td>\n",
       "    </tr>\n",
       "  </tbody>\n",
       "</table>\n",
       "</div>"
      ],
      "text/plain": [
       "                      Número de projetos em que é core developer\n",
       "gaearon                                                        3\n",
       "timdorr                                                        2\n",
       "kittens                                                        2\n",
       "rauchg                                                         2\n",
       "arunoda                                                        2\n",
       "mitsuhiko                                                      2\n",
       "donnemartin                                                    3\n",
       "kennethreitz                                                   2\n",
       "MikeMcQuaid                                                    2\n",
       "jacknagel                                                      2\n",
       "adamv                                                          2\n",
       "parkr                                                          2\n",
       "jordansissel                                                   2\n",
       "jnicklas                                                       2\n",
       "tysongach                                                      2\n",
       "rafaelfranca                                                   2\n",
       "carlosantoniodasilva                                           2\n",
       "josevalim                                                      2\n",
       "sferik                                                         2\n",
       "swankjesse                                                     3\n",
       "JakeWharton                                                    6\n",
       "benjchristensen                                                3\n",
       "dnkoutso                                                       2\n",
       "jrodbx                                                         2\n",
       "wenshao                                                        2\n",
       "pyricau                                                        2\n",
       "greenrobot                                                     2\n",
       "smarek                                                         2\n",
       "taylorotwell                                                   2\n",
       "Seldaek                                                        2\n",
       "jbrooksuk                                                      2\n",
       "GrahamCampbell                                                 3\n",
       "lucasmichot                                                    2\n",
       "barryvdh                                                       2\n",
       "fabpot                                                         3"
      ]
     },
     "execution_count": 561,
     "metadata": {},
     "output_type": "execute_result"
    }
   ],
   "source": [
    "# Bibliotca\n",
    "import pandas as pd\n",
    "\n",
    "# Identificar desenvolvedores core developers em mais de um projeto\n",
    "dupes = [x for n, x in enumerate(devCoreDeveloper) if x in devCoreDeveloper[:n]]\n",
    "dupesNoDuplicate = [x for n, x in enumerate(dupes) if x not in dupes[:n]]\n",
    "\n",
    "contDupes = 0\n",
    "listContDups = []\n",
    "\n",
    "# Verificar todos os core developers\n",
    "for i in range(len(dupesNoDuplicate)):\n",
    "    for j in range(len(devCoreDeveloper)):\n",
    "        if(dupesNoDuplicate[i] == devCoreDeveloper[j]):\n",
    "            contDupes = contDupes + 1\n",
    "    listContDups = listContDups + [contDupes]\n",
    "    contDupes = 0\n",
    "      \n",
    "# Criar tabela\n",
    "pd.DataFrame(listContDups, columns=[\"Número de projetos em que é core developer\"], index=dupesNoDuplicate)"
   ]
  },
  {
   "cell_type": "markdown",
   "metadata": {},
   "source": [
    "O usuário JakeWharton se destacou por ser core developer de 6 diferentes projetos. Ele participa do GitHub desde 2008, contribui para 98 repositórios e participa de organizações como Google, Robolectric, ReactiveX GRPC, TODO Group e Android. Os projetos que ele é core developer são listados a seguir:"
   ]
  },
  {
   "cell_type": "code",
   "execution_count": 563,
   "metadata": {},
   "outputs": [
    {
     "ename": "NameError",
     "evalue": "name 'devCoreDeveloperRepo' is not defined",
     "output_type": "error",
     "traceback": [
      "\u001b[1;31m---------------------------------------------------------------------------\u001b[0m",
      "\u001b[1;31mNameError\u001b[0m                                 Traceback (most recent call last)",
      "\u001b[1;32m<ipython-input-563-66efad7313fb>\u001b[0m in \u001b[0;36m<module>\u001b[1;34m()\u001b[0m\n\u001b[0;32m      1\u001b[0m \u001b[1;32mfor\u001b[0m \u001b[0mi\u001b[0m \u001b[1;32min\u001b[0m \u001b[0mrange\u001b[0m\u001b[1;33m(\u001b[0m\u001b[0mlen\u001b[0m\u001b[1;33m(\u001b[0m\u001b[0mdevCoreDeveloper\u001b[0m\u001b[1;33m)\u001b[0m\u001b[1;33m)\u001b[0m\u001b[1;33m:\u001b[0m\u001b[1;33m\u001b[0m\u001b[0m\n\u001b[0;32m      2\u001b[0m     \u001b[1;32mif\u001b[0m \u001b[1;33m(\u001b[0m\u001b[1;34m'JakeWharton'\u001b[0m \u001b[1;33m==\u001b[0m \u001b[0mdevCoreDeveloper\u001b[0m\u001b[1;33m[\u001b[0m\u001b[0mi\u001b[0m\u001b[1;33m]\u001b[0m\u001b[1;33m)\u001b[0m\u001b[1;33m:\u001b[0m\u001b[1;33m\u001b[0m\u001b[0m\n\u001b[1;32m----> 3\u001b[1;33m         \u001b[0mprint\u001b[0m\u001b[1;33m(\u001b[0m\u001b[0mdevCoreDeveloperRepo\u001b[0m\u001b[1;33m[\u001b[0m\u001b[0mi\u001b[0m\u001b[1;33m]\u001b[0m\u001b[1;33m)\u001b[0m\u001b[1;33m\u001b[0m\u001b[0m\n\u001b[0m",
      "\u001b[1;31mNameError\u001b[0m: name 'devCoreDeveloperRepo' is not defined"
     ]
    }
   ],
   "source": [
    "for i in range(len(devCoreDeveloper)):\n",
    "    if ('JakeWharton' == devCoreDeveloper[i]):\n",
    "        print(devCoreDeveloperRepo[i])"
   ]
  },
  {
   "cell_type": "markdown",
   "metadata": {},
   "source": [
    "**6. Como o tamanho deste conjunto de core developers varia com o número de commits de um sistema? Isto é, sistemas com muitos commits tendem a ter mais core developers?**"
   ]
  },
  {
   "cell_type": "markdown",
   "metadata": {},
   "source": [
    "O número de commits tende a crescer com o aumento do número de core developers. Isso indica que maior esforço entre os desenvolvers para contribuir com o sistema. No entanto, a parti de 4 core developers, o número de commits tende a diminuir."
   ]
  },
  {
   "cell_type": "code",
   "execution_count": 513,
   "metadata": {},
   "outputs": [
    {
     "data": {
      "image/png": "[encoded data removed]",
      "text/plain": [
       "<Figure size 432x288 with 1 Axes>"
      ]
     },
     "metadata": {},
     "output_type": "display_data"
    }
   ],
   "source": [
    "# Calculando o total de core developers\n",
    "\n",
    "commitList = []\n",
    "commitCount = 0\n",
    "\n",
    "for i in range(len(bars)):\n",
    "    for j in range(len(list)):\n",
    "        if(list[j][5] == i+1):\n",
    "            commitCount = commitCount + list[j][3]\n",
    "    commitList = commitList + [commitCount]\n",
    "    commitCount = 0\n",
    "\n",
    "# Barras\n",
    "y_pos = np.arange(len(bars))\n",
    "plt.bar(y_pos, commitList)\n",
    " \n",
    "# Nomes no eixo x\n",
    "plt.xticks(y_pos, bars)\n",
    "\n",
    "# Labels\n",
    "plt.title('Total de commits por core developers')\n",
    "plt.xlabel('Número de core developers')\n",
    "plt.ylabel('Total de commits')    \n",
    "\n",
    "# Mostrar o gráfico\n",
    "plt.show()"
   ]
  },
  {
   "cell_type": "markdown",
   "metadata": {},
   "source": [
    "## Conclusão\n",
    "\n",
    "Neste trabalho objetivou-se utilizar a API do GitHub juntamente com o Jupyter Notebook para investigar os core developers dos principais projetos da plataforma. Foi criado um esboço inicial de um paper \"vivo\", isto é, todos os códigos são incorporados no mesmo documento do texto, permitindo que o leitor altere determinados atributos, garantindo a validade da pesquisa. Além disso, todos os dados estão sempre atualizados, pois são obtidos dinamicamente da API do GitHub ao \"compilar\" o paper.\n",
    "\n",
    "Durante o desenvolvimento inicila deste estudo, foram encontrados 3 desafios: 1) conhecimento inicial da linguagem Phyton; 2) tentou-se utilizar uma biblioteca de terceiros para facilitar o acesso à API do GitHub, entretando foram encontradas limitações de requisições e da sua documentação e; 3) desconhecimento do limite de requisições da API do GitHub, impossibilitando que novos dados pudessem ser obtidos."
   ]
  }
 ],
 "metadata": {
  "kernelspec": {
   "display_name": "Python 3",
   "language": "python",
   "name": "python3"
  },
  "language_info": {
   "codemirror_mode": {
    "name": "ipython",
    "version": 3
   },
   "file_extension": ".py",
   "mimetype": "text/x-python",
   "name": "python",
   "nbconvert_exporter": "python",
   "pygments_lexer": "ipython3",
   "version": "3.6.5"
  }
 },
 "nbformat": 4,
 "nbformat_minor": 2
}
